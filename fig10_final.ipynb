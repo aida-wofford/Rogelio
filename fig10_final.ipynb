{
  "nbformat": 4,
  "nbformat_minor": 0,
  "metadata": {
    "kernelspec": {
      "display_name": "Python 3",
      "language": "python",
      "name": "python3"
    },
    "language_info": {
      "codemirror_mode": {
        "name": "ipython",
        "version": 3
      },
      "file_extension": ".py",
      "mimetype": "text/x-python",
      "name": "python",
      "nbconvert_exporter": "python",
      "pygments_lexer": "ipython3",
      "version": "3.8.3"
    },
    "colab": {
      "name": "fig10_final.ipynb",
      "provenance": [],
      "include_colab_link": true
    }
  },
  "cells": [
    {
      "cell_type": "markdown",
      "metadata": {
        "id": "view-in-github",
        "colab_type": "text"
      },
      "source": [
        "<a href=\"https://colab.research.google.com/github/Rogerod23/Rogelio/blob/main/fig10_final.ipynb\" target=\"_parent\"><img src=\"https://colab.research.google.com/assets/colab-badge.svg\" alt=\"Open In Colab\"/></a>"
      ]
    },
    {
      "cell_type": "code",
      "metadata": {
        "id": "Tfhob5gI8lsH",
        "colab": {
          "base_uri": "https://localhost:8080/",
          "height": 672
        },
        "outputId": "8f50dfbe-7cde-4617-94f2-f9437043fde2"
      },
      "source": [
        "import pandas as pd\n",
        "import numpy as np\n",
        "import matplotlib.pyplot as plt\n",
        "%matplotlib inline\n",
        "from matplotlib import rcParams\n",
        "### THIS NOTEBOOK ONLY PLOTS CLUSTERS 2732 and 816.\n",
        "\n",
        "#############################\n",
        "#### LOAD DATA   ############\n",
        "#############################\n",
        "PDF = pd.read_csv(\"https://raw.githubusercontent.com/Rogerod23/Rogelio/main/PDF.csv\")\n",
        "percentiles = pd.read_csv(\"https://raw.githubusercontent.com/Rogerod23/Rogelio/main/percentiles_all.csv\")\n",
        "\n",
        "del PDF[\"Unnamed: 0\"]\n",
        "del percentiles[\"Unnamed: 0\"]\n",
        "cluster_id = [\"2723\", \"816\"]\n",
        "\n",
        "PDF_columns = PDF.columns\n",
        "percentiles_columns = percentiles.columns\n",
        "\n",
        "#PDF COLUMN INFO TO SEE WHAT PLOT YOU WANT TO SEE\n",
        "#print(percentiles_columns)\n",
        "#print(PDF_columns)\n",
        "\n",
        "#########################################################\n",
        "# Colors \n",
        "#########################################################\n",
        "\n",
        "alpha=1\n",
        "blue=(7/255,80/255,155/255,alpha)\n",
        "lblue=(106/255,175/255,210/255,alpha)\n",
        "pistache=(190/255,250/255,215/255,alpha)\n",
        "yellow=(248/255,250/255,3/255,alpha)\n",
        "red=(251/255,105/255,73/255,alpha)\n",
        "wine=(160/255,55/255,98/255,alpha)\n",
        "dgreen=(5/255,149/255,74/255,alpha)\n",
        "gray=(203/255,202/255,201/255,alpha)\n",
        "black = (0,0,0,1)\n",
        "\n",
        "mycolor=[blue,red,dgreen]\n",
        "\n",
        "#########################################################\n",
        "# Font parameters \n",
        "#########################################################\n",
        "fontsize=12\n",
        "font = {'family' : 'serif',\n",
        "        'weight' : 'regular',\n",
        "        'size'   : fontsize}\n",
        "plt.rc('font', **font)\n",
        "\n",
        "mycolor=[blue,red,dgreen]\n",
        "\n",
        "mark = \"None\"\n",
        "lw_ = 1.5\n",
        "linestyle_ = \"-\"\n",
        "\n",
        "#Figure size and subplots\n",
        "fig, axes = plt.subplots(2,3,figsize=(12,10))\n",
        "((ax1,ax2, ax3),(ax4,ax5, ax6)) = axes\n",
        "plt.subplots_adjust(hspace=0.4)\n",
        "plt.subplots_adjust(wspace=0.25)\n",
        "code=['GALAXEV','SLUG']\n",
        "\n",
        "for icluster in range(2):\n",
        "    for icode in range(2):\n",
        "        axes[icluster][icode].set_ylabel('')\n",
        "        axes[icluster][icode].minorticks_on() #...add minor ticks to x and y axes\n",
        "        axes[icluster][icode].tick_params(which='minor', length = 2, width = 1, #...format minor ticks\n",
        "                                       direction = 'in', top = True, right = True)\n",
        "        axes[icluster][icode].tick_params(which='major', length = 4, width = 1, #...format minor ticks  \n",
        "                                          direction = 'in', top = True, right = True)\n",
        "        if icode==0 and icluster == 0:\n",
        "            axes[icluster][icode].annotate('Cluster 816-E', \n",
        "                                           xy = (0.4,0.95), xytext = (0.46,0.95), \n",
        "                                           xycoords='figure fraction', size = 12)\n",
        "        if icode==0 and icluster == 1:\n",
        "            axes[icluster][icode].annotate('Cluster 2732-W', \n",
        "                                           xy = (0.4,0.47), xytext = (0.46,0.47), \n",
        "                                           xycoords='figure fraction', size = 12)            \n",
        "        axes[icluster][icode].set_xlabel('$A_V$ (mag)')\n",
        "        axes[icluster][icode].set_title(code[icode],fontsize=12)\n",
        "\n",
        "\n",
        "axes[0][2].set_title(code[1],fontsize=12)\n",
        "axes[1][2].set_title(code[1],fontsize=12)\n",
        "\n",
        "axes[0][2].set_xlabel('Log(Age/yr)')\n",
        "axes[1][2].set_xlabel('Log(Age/yr)')\n",
        "\n",
        "axes[0][2].set_xlim(0, 8)\n",
        "axes[1][2].set_xlim(0,8)\n",
        "\n",
        "#Extinction plots\n",
        "\n",
        "axes[0][0].plot(PDF.loc[:, PDF_columns[0]], PDF.loc[:, PDF_columns[5]]/PDF.loc[:, PDF_columns[5]].max(), color = black, marker = mark, \n",
        "         markevery= 10, linestyle = linestyle_, lw=lw_)\n",
        "\n",
        "axes[0][1].plot(PDF.loc[:, PDF_columns[148]], PDF.loc[:, PDF_columns[149]]/PDF.loc[:, PDF_columns[149]].max(), color = black, marker = mark, \n",
        "         markevery= 10, linestyle = linestyle_, lw=lw_)\n",
        "\n",
        "axes[0][0].axvline(percentiles.loc[0, percentiles_columns[6]], \n",
        "                   color =mycolor[0], linestyle = '-', linewidth = lw_,label='16th percentile')\n",
        "axes[0][0].axvline(percentiles.loc[0, percentiles_columns[7]], color =mycolor[1],\n",
        "                   linestyle =  '-', linewidth = lw_,label='50th percentile')\n",
        "axes[0][0].axvline(percentiles.loc[0, percentiles_columns[8]], color =mycolor[2],\n",
        "                   linestyle =  '-', linewidth = lw_,label='84th percentile')\n",
        "axes[0][0].legend()\n",
        "\n",
        "axes[0][1].axvline(percentiles.loc[0, percentiles_columns[222]], color =mycolor[0], linestyle = '-', linewidth = lw_)\n",
        "axes[0][1].axvline(percentiles.loc[0, percentiles_columns[223]], color =mycolor[1], linestyle = '-', linewidth = lw_)\n",
        "axes[0][1].axvline(percentiles.loc[0, percentiles_columns[224]], color =mycolor[2], linestyle =  '-', linewidth = lw_)\n",
        "\n",
        "axes[1][0].plot(PDF.loc[:, PDF_columns[0]], PDF.loc[:, PDF_columns[1]]/PDF.loc[:, PDF_columns[1]].max(), color = black, \n",
        "                marker = mark, markevery= 10, linestyle = linestyle_\n",
        "                 , lw=1)\n",
        "axes[1][1].plot(PDF.loc[:, PDF_columns[68]], PDF.loc[:, PDF_columns[69]]/PDF.loc[:, PDF_columns[69]].max(), color = black, \n",
        "         marker = mark, markevery= 10, linestyle = linestyle_\n",
        "                 , lw=1)\n",
        "\n",
        "axes[1][0].axvline(percentiles.loc[0, percentiles_columns[0]], color =mycolor[0], linestyle = '-', linewidth = lw_)\n",
        "axes[1][0].axvline(percentiles.loc[0, percentiles_columns[1]], color =mycolor[1], linestyle =  '-', linewidth = lw_)\n",
        "axes[1][0].axvline(percentiles.loc[0, percentiles_columns[2]], color =mycolor[2], linestyle =  '-', linewidth = lw_)\n",
        "\n",
        "\n",
        "axes[1][1].axvline(percentiles.loc[0, percentiles_columns[102]], color =mycolor[0], linestyle = '-', linewidth = lw_)\n",
        "axes[1][1].axvline(percentiles.loc[0, percentiles_columns[103]], color = mycolor[1], linestyle = '-', linewidth = lw_)\n",
        "axes[1][1].axvline(percentiles.loc[0, percentiles_columns[104]], color = mycolor[2], linestyle =  '-', linewidth = lw_)\n",
        "\n",
        "\n",
        "\n",
        "### Age plots\n",
        "axes[0][2].plot(PDF.loc[:, PDF_columns[150]], PDF.loc[:, PDF_columns[151]]/ PDF.loc[:, PDF_columns[151]].max(), color = black, marker = mark, \n",
        "         markevery= 10, linestyle = linestyle_, lw=lw_)\n",
        "\n",
        "axes[0][2].axvline(percentiles.loc[0, percentiles_columns[225]], color =mycolor[0], linestyle = '-', linewidth = lw_)\n",
        "axes[0][2].axvline(percentiles.loc[0, percentiles_columns[226]], color = mycolor[1], linestyle = '-', linewidth = lw_)\n",
        "axes[0][2].axvline(percentiles.loc[0, percentiles_columns[227]], color = mycolor[2], linestyle =  '-', linewidth = lw_)\n",
        "\n",
        "\n",
        "\n",
        "\n",
        "axes[1][2].plot(PDF.loc[:, PDF_columns[70]], PDF.loc[:, PDF_columns[71]]/PDF.loc[:, PDF_columns[71]].max(), color = black, marker = mark, \n",
        "         markevery= 10, linestyle = linestyle_, lw=lw_)\n",
        "\n",
        "axes[1][2].axvline(percentiles.loc[0, percentiles_columns[105]], color =mycolor[0], linestyle = '-', linewidth = lw_)\n",
        "axes[1][2].axvline(percentiles.loc[0, percentiles_columns[106]], color = mycolor[1], linestyle = '-', linewidth = lw_)\n",
        "axes[1][2].axvline(percentiles.loc[0, percentiles_columns[107]], color = mycolor[2], linestyle =  '-', linewidth = lw_)\n",
        "\n",
        "\n",
        "plt.savefig(\"fig10_av_pdf.png\", bbox_inches = 'tight',dpi=100)\n",
        "plt.show()\n"
      ],
      "execution_count": 13,
      "outputs": [
        {
          "output_type": "display_data",
          "data": {
            "image/png": "[encoded data removed]",
            "text/plain": [
              "<Figure size 864x720 with 6 Axes>"
            ]
          },
          "metadata": {
            "tags": [],
            "needs_background": "light"
          }
        }
      ]
    },
    {
      "cell_type": "code",
      "metadata": {
        "id": "BcaXgYbL8lsO",
        "colab": {
          "base_uri": "https://localhost:8080/"
        },
        "outputId": "5f7be1c6-8d72-42c4-a2c1-2e9191d02f5d"
      },
      "source": [
        "index_816 = np.where(PDF_columns.str.contains(\"816\") == True)\n",
        "print(PDF_columns[index_816])\n",
        "print(index_816)"
      ],
      "execution_count": null,
      "outputs": [
        {
          "output_type": "stream",
          "text": [
            "Index(['AVt_cb2018_z014_u3_ID816', 'AVpdf_cb2018_z014_u3_ID816',\n",
            "       'logt_cb2018_z014_u3_ID816', 'tpdf_cb2018_z014_u3_ID816',\n",
            "       'AVt_modp020_chabrier_MW_phi0.50_ID816',\n",
            "       'AVpdf_modp020_chabrier_MW_phi0.50_ID816',\n",
            "       'logt_modp020_chabrier_MW_phi0.50_ID816',\n",
            "       'tpdf_modp020_chabrier_MW_phi0.50_ID816'],\n",
            "      dtype='object')\n",
            "(array([144, 145, 146, 147, 148, 149, 150, 151]),)\n"
          ],
          "name": "stdout"
        }
      ]
    },
    {
      "cell_type": "code",
      "metadata": {
        "colab": {
          "base_uri": "https://localhost:8080/"
        },
        "id": "ghO32fVTULIQ",
        "outputId": "60b7a05c-e9ee-4092-9d88-d032a09c2847"
      },
      "source": [
        "index_816 = np.where(percentiles_columns.str.contains(\"816\") == True)\n",
        "print(percentiles_columns[index_816])\n",
        "print(index_816)"
      ],
      "execution_count": null,
      "outputs": [
        {
          "output_type": "stream",
          "text": [
            "Index(['AV_16th_cb2018_z014_u3_816', 'AV_50th_cb2018_z014_u3_816',\n",
            "       'AV_84th_cb2018_z014_u3_816', 't_16th_cb2018_z014_u3_816',\n",
            "       't_50th_cb2018_z014_u3_816', 't_84th_cb2018_z014_u3_816',\n",
            "       'AV_16th_modp020_chabrier_MW_phi0.50_816',\n",
            "       'AV_50th_modp020_chabrier_MW_phi0.50_816',\n",
            "       'AV_84th_modp020_chabrier_MW_phi0.50_816',\n",
            "       't_16th_modp020_chabrier_MW_phi0.50_816',\n",
            "       't_50th_modp020_chabrier_MW_phi0.50_816',\n",
            "       't_84th_modp020_chabrier_MW_phi0.50_816'],\n",
            "      dtype='object')\n",
            "(array([216, 217, 218, 219, 220, 221, 222, 223, 224, 225, 226, 227]),)\n"
          ],
          "name": "stdout"
        }
      ]
    },
    {
      "cell_type": "code",
      "metadata": {
        "colab": {
          "base_uri": "https://localhost:8080/"
        },
        "id": "prCIvyjWUirT",
        "outputId": "282a30a8-dd5d-4cb0-f214-667f8ce26ee9"
      },
      "source": [
        "index_2732 = np.where(PDF_columns.str.contains(\"2732\") == True)\n",
        "print(PDF_columns[index_2732])\n",
        "print(index_2732)"
      ],
      "execution_count": null,
      "outputs": [
        {
          "output_type": "stream",
          "text": [
            "Index(['AVt_cb2018_z014_u3_ID2732', 'AVpdf_cb2018_z014_u3_ID2732',\n",
            "       'logt_cb2018_z014_u3_ID2732', 'tpdf_cb2018_z014_u3_ID2732',\n",
            "       'AVt_modp020_chabrier_MW_phi0.50_ID2732',\n",
            "       'AVpdf_modp020_chabrier_MW_phi0.50_ID2732',\n",
            "       'logt_modp020_chabrier_MW_phi0.50_ID2732',\n",
            "       'tpdf_modp020_chabrier_MW_phi0.50_ID2732'],\n",
            "      dtype='object')\n",
            "(array([64, 65, 66, 67, 68, 69, 70, 71]),)\n"
          ],
          "name": "stdout"
        }
      ]
    },
    {
      "cell_type": "code",
      "metadata": {
        "colab": {
          "base_uri": "https://localhost:8080/"
        },
        "id": "UF0L40cVU2mV",
        "outputId": "7cf3b682-ffe0-482f-ae40-9a183aafc0d3"
      },
      "source": [
        "index_2732 = np.where(percentiles_columns.str.contains(\"2732\") == True)\n",
        "print(percentiles_columns[index_2732])\n",
        "print(index_2732)"
      ],
      "execution_count": null,
      "outputs": [
        {
          "output_type": "stream",
          "text": [
            "Index(['AV_16th_cb2018_z014_u3_2732', 'AV_50th_cb2018_z014_u3_2732',\n",
            "       'AV_84th_cb2018_z014_u3_2732', 't_16th_cb2018_z014_u3_2732',\n",
            "       't_50th_cb2018_z014_u3_2732', 't_84th_cb2018_z014_u3_2732',\n",
            "       'AV_16th_modp020_chabrier_MW_phi0.50_2732',\n",
            "       'AV_50th_modp020_chabrier_MW_phi0.50_2732',\n",
            "       'AV_84th_modp020_chabrier_MW_phi0.50_2732',\n",
            "       't_16th_modp020_chabrier_MW_phi0.50_2732',\n",
            "       't_50th_modp020_chabrier_MW_phi0.50_2732',\n",
            "       't_84th_modp020_chabrier_MW_phi0.50_2732'],\n",
            "      dtype='object')\n",
            "(array([ 96,  97,  98,  99, 100, 101, 102, 103, 104, 105, 106, 107]),)\n"
          ],
          "name": "stdout"
        }
      ]
    },
    {
      "cell_type": "code",
      "metadata": {
        "id": "Q3uRNUmeVIxb",
        "colab": {
          "base_uri": "https://localhost:8080/"
        },
        "outputId": "288dee15-3ef6-41bd-cb40-1fb6d5813e10"
      },
      "source": [
        "PDF.loc[:, PDF_columns[5]]/PDF.loc[:, PDF_columns[5]].max()"
      ],
      "execution_count": 12,
      "outputs": [
        {
          "output_type": "execute_result",
          "data": {
            "text/plain": [
              "0      0.461550\n",
              "1      0.562225\n",
              "2      0.662697\n",
              "3      0.757708\n",
              "4      0.841985\n",
              "         ...   \n",
              "123    0.000034\n",
              "124    0.000034\n",
              "125    0.000034\n",
              "126    0.000034\n",
              "127    0.000034\n",
              "Name: AVpdf_modp020_chabrier_MW_phi0.50_ID383, Length: 128, dtype: float64"
            ]
          },
          "metadata": {
            "tags": []
          },
          "execution_count": 12
        }
      ]
    },
    {
      "cell_type": "code",
      "metadata": {
        "id": "uP0LG_rBWnCz"
      },
      "source": [
        ""
      ],
      "execution_count": null,
      "outputs": []
    }
  ]
}